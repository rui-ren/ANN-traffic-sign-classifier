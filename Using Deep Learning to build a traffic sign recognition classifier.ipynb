{
 "cells": [
  {
   "cell_type": "markdown",
   "metadata": {},
   "source": [
    "# Deep learning for traffic sign detection"
   ]
  },
  {
   "cell_type": "markdown",
   "metadata": {},
   "source": [
    "# Step.1 Data visulization and statistic analysis"
   ]
  },
  {
   "cell_type": "markdown",
   "metadata": {},
   "source": [
    "NO1. Change working directory and load data"
   ]
  },
  {
   "cell_type": "code",
   "execution_count": 10,
   "metadata": {},
   "outputs": [],
   "source": [
    "# Load pickle data\n",
    "import pickle\n",
    "import os\n",
    "\n",
    "# Change the current work directory\n",
    "os.getcwd()\n",
    "os.chdir(u'J:\\Machine Learning for Self-driving Car\\project\\project\\Traffic_sign_classifier')\n",
    "# TODO file\n",
    "\n",
    "# Use pickle to read data\n",
    "training_file = 'train.p'\n",
    "validation_file = 'valid.p'\n",
    "testing_file = 'test.p'\n",
    "\n",
    "with open(training_file, 'rb') as f:\n",
    "    train = pickle.load(f)\n",
    "with open(validation_file, 'rb') as f:\n",
    "    validation = pickle.load(f)\n",
    "with open(testing_file, 'rb') as f:\n",
    "    test = pickle.load(f)\n",
    "    \n",
    "# discretization data to features and labels\n",
    "# feature, label \n",
    "X_train, Y_train = train['features'], train['labels'] \n",
    "X_validation, Y_validation = validation['features'], validation['labels']\n",
    "X_test, Y_test = test['features'], test['labels']\n"
   ]
  },
  {
   "cell_type": "markdown",
   "metadata": {},
   "source": [
    "N0.2 Data analysis and visulization"
   ]
  },
  {
   "cell_type": "code",
   "execution_count": 30,
   "metadata": {},
   "outputs": [
    {
     "name": "stdout",
     "output_type": "stream",
     "text": [
      "43\n",
      "Number of training data:  34799\n",
      "Number of validation data:  4410\n",
      "Number of test data:  12630\n",
      "Number of the total images:  51839\n",
      "Image shape:  (32, 32, 3)\n",
      "Number of classes:  43\n"
     ]
    }
   ],
   "source": [
    "import numpy as np\n",
    "import pandas as pd\n",
    "\n",
    "# analysis the data set example\n",
    "n_train = len(X_train)\n",
    "n_validation = len(X_validation)\n",
    "n_test = len(X_test)\n",
    "\n",
    "# analysis the size of one image\n",
    "# size 32 x 32, 3 channels RGB\n",
    "image_shape = X_train[0].shape\n",
    "\n",
    "# test how many unique label\n",
    "# np.unique(), we have 43 unique traffic sign!\n",
    "n_class = len(np.unique(Y_train))\n",
    "\n",
    "# data visulization\n",
    "print('Number of training data: ', n_train)\n",
    "print('Number of validation data: ', n_validation)\n",
    "print('Number of test data: ', n_test)\n",
    "print('Number of the total images: ', (n_train + n_validation + n_test) )\n",
    "print('Image shape: ', image_shape)\n",
    "print('Number of classes: ', n_class)\n"
   ]
  },
  {
   "cell_type": "markdown",
   "metadata": {},
   "source": [
    "Visualize the German Traffic Signs Dataset using the pickled files. \n",
    "\n",
    "Targets: plotting traffic sign images and visualization.\n",
    "\n",
    "Tools: matplotlib and seaborn."
   ]
  },
  {
   "cell_type": "code",
   "execution_count": 36,
   "metadata": {},
   "outputs": [
    {
     "name": "stdout",
     "output_type": "stream",
     "text": [
      "13\n",
      "Counter({2: 2010, 1: 1980, 13: 1920, 12: 1890, 38: 1860, 10: 1800, 4: 1770, 5: 1650, 25: 1350, 9: 1320, 7: 1290, 3: 1260, 8: 1260, 11: 1170, 35: 1080, 18: 1080, 17: 990, 31: 690, 14: 690, 33: 599, 26: 540, 15: 540, 28: 480, 23: 450, 30: 390, 16: 360, 34: 360, 6: 360, 36: 330, 22: 330, 40: 300, 20: 300, 39: 270, 21: 270, 29: 240, 24: 240, 41: 210, 42: 210, 32: 210, 27: 210, 37: 180, 19: 180, 0: 180})\n"
     ]
    },
    {
     "data": {
      "image/png": "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\n",
      "text/plain": [
       "<Figure size 432x288 with 1 Axes>"
      ]
     },
     "metadata": {
      "needs_background": "light"
     },
     "output_type": "display_data"
    }
   ],
   "source": [
    "import matplotlib.pyplot as plt\n",
    "from collections import Counter\n",
    "% matplotlib inline\n",
    "index = np.random.randint(n_train)\n",
    "plt.imshow(X_train[index],cmap = 'gray')\n",
    "# Random index for the calculation\n",
    "print(Y_train[index])\n",
    "# Count the label for individual traffic sign\n",
    "# Return a dict\n",
    "sign_count = Counter(Y_train)\n",
    "print(sign_count)"
   ]
  },
  {
   "cell_type": "markdown",
   "metadata": {},
   "source": [
    "Training set traffic sign analysis"
   ]
  },
  {
   "cell_type": "code",
   "execution_count": 68,
   "metadata": {},
   "outputs": [
    {
     "data": {
      "text/plain": [
       "Text(0,0.5,'Total Number')"
      ]
     },
     "execution_count": 68,
     "metadata": {},
     "output_type": "execute_result"
    },
    {
     "data": {
      "image/png": "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\n",
      "text/plain": [
       "<Figure size 720x576 with 1 Axes>"
      ]
     },
     "metadata": {
      "needs_background": "light"
     },
     "output_type": "display_data"
    }
   ],
   "source": [
    "xval = np.array(range(n_class))\n",
    "yval = [sign_count[i] for i in xval]\n",
    "# plot the distribution of the picture\n",
    "plt.figure(figsize=(10,8))\n",
    "plt.bar(xval,yval)\n",
    "plt.title('Training Set Traffic Sign Distribution')\n",
    "plt.xlabel('Label')\n",
    "plt.ylabel('Total Number')\n"
   ]
  },
  {
   "cell_type": "markdown",
   "metadata": {},
   "source": [
    "Validation set traffic sign analysis"
   ]
  },
  {
   "cell_type": "code",
   "execution_count": 71,
   "metadata": {},
   "outputs": [
    {
     "name": "stdout",
     "output_type": "stream",
     "text": [
      "Number of the validation class:  43\n"
     ]
    },
    {
     "data": {
      "text/plain": [
       "Text(0.5,1,'Validation Set Traffic Sign Distribution')"
      ]
     },
     "execution_count": 71,
     "metadata": {},
     "output_type": "execute_result"
    },
    {
     "data": {
      "image/png": "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\n",
      "text/plain": [
       "<Figure size 720x576 with 1 Axes>"
      ]
     },
     "metadata": {
      "needs_background": "light"
     },
     "output_type": "display_data"
    }
   ],
   "source": [
    "sign_count_valid = Counter(Y_validation)  # return dictionary\n",
    "n_class_valid = len(np.unique(Y_validation))\n",
    "print('Number of the validation class: ', n_class_valid)\n",
    "\n",
    "# data visulization for the validation data set distribution\n",
    "x_val_valid = np.array(range(n_class_valid))\n",
    "y_val_valid = [sign_count_valid[i] for i in range(n_class_valid)]\n",
    "plt.figure(figsize=(10,8))\n",
    "plt.bar(x_val_valid,y_val_valid)\n",
    "plt.xlabel('Label')\n",
    "plt.ylabel('Total Number')\n",
    "plt.title('Validation Set Traffic Sign Distribution')"
   ]
  },
  {
   "cell_type": "markdown",
   "metadata": {},
   "source": [
    "Test set traffic sign analysis"
   ]
  },
  {
   "cell_type": "code",
   "execution_count": 70,
   "metadata": {},
   "outputs": [
    {
     "name": "stdout",
     "output_type": "stream",
     "text": [
      "Number of the test class:  43\n"
     ]
    },
    {
     "data": {
      "text/plain": [
       "Text(0.5,1,'Test Set Traffic Sign Distribution')"
      ]
     },
     "execution_count": 70,
     "metadata": {},
     "output_type": "execute_result"
    },
    {
     "data": {
      "image/png": "iVBORw0KGgoAAAANSUhEUgAAAmcAAAHwCAYAAADjOch3AAAABHNCSVQICAgIfAhkiAAAAAlwSFlzAAALEgAACxIB0t1+/AAAADl0RVh0U29mdHdhcmUAbWF0cGxvdGxpYiB2ZXJzaW9uIDIuMi4zLCBodHRwOi8vbWF0cGxvdGxpYi5vcmcvIxREBQAAIABJREFUeJzt3X24ZXVd9/H3RwbFREVgQJqBRovK7grE0RsfMhVLYEzIpOxOmcuw6QFNryybnny6Ncce1OzutrjAGss00pTJ4dIIMOs2wFERNVTQJhmHmEGeRVHwe/+xfyPb8cw5ex7WOb8z+/26rn3ttX7rt9f67rP2OfOZ31prr1QVkiRJ6sN9FroASZIk3ctwJkmS1BHDmSRJUkcMZ5IkSR0xnEmSJHXEcCZJktQRw5mkRSfJ0UkuS3J7klcmOSDJO5LckuSSJCcn+cg+3uYDktyR5Ih9ud7d2P4+fU9JPpjkp9r0C5K8bx+ue02Sd++r9UnTxnAmdaT947/j8Y0kXxmb/7m9WO9lSZ4zR59fTvLZtq3/TvKPSe4/wbpPTnLtLMsvGXsPX09y19j8G/fk/QAvAD5bVQ+sqpcDPw48CnhoVT2lqt5XVY/a3ZUmOTzJ3yS5IcltSa5O8qsAVfXlqjq4qrbtYc2zbfeP2s/m9va4Oskbkizd0WfS99TW9edz9auqJ1bVu/ZB7T+Y5Ks7rfucqvrJvV23NK2WLHQBku5VVQfvmE6yGXh+Vf3z0NtN8jTgd4GTq+oTSQ4DTtsX666qp4xt5x3AJ6vq1bPUsqSq7p5jtd8FXLnT/Oeq6qu76D+pNwNfBr4XuAP4fuDYvVznpM6rql9Kct+23d8Hrkiysqq+tK82kuQ+QJXfQC51y5EzaRFph+9+L8nnk9yY5G1JDmnLHtAO7d3UDu9dnuQhSf4YeDRwbhut+uMZVv1o4F+r6hMAVfWlqnpLVX2lrfv+Sd6Y5Lo2qvanSe7XQty7gYePjYYdtpvv6elJPt0OT24D/jTJkUne197jTUneneTI1v/vgWcBr2zbeznwJ8BT2/xLd6xzbBsPbyOBNybZnuQPdlHOo4G/qapbq+qeqvpUVb2nrePgJJXkoW3+oUne30bYPpTkD3YcGhzr+/y2r25K8keT/Dyq6mtVdRXwTODrwAvHf05j7+kVSa4fG+F7XDtM+avAWe1n8aHWd1PrfwVwJ3Bka3v22KYPSHJuW9+nkjx+bFs3JjlxbH58dO6DwP3G9v8PZafDpEmenORjSW5N8u9JHjW2bFP7TF/Rtv3eJA+e5Gcl7a8MZ9Li8huMDuE9AVjO6B/vN7Rlz2c0Gr4MOJzRob+vVdVLgA8zGoU7uM3v7DLgGUleluSxbfRm3Bva9n4I+D5GI0tr24jOTwKfb+s+eA9Heb4H+Ebbxq8x+tv0Z23+4cCBwB8DVNUZwHuAl7ftvRJ4CfDPbf5bgld7L+8DPg4cw2iU7T27qOMy4A+TnJnku+eo+Vzgi8ARwK8Aq2fo8zTgOEahb02SJ8yxzm+qqq8B7wV+ZOdlLdz8HPDDwIOBpwNfbIcp38RoFO7gqnrc2Mue017zIGD7DJt8MnAFcBijn/UFSQ6eod/OngjcNbb/P7FTrUcBG4BXt3WfB1yY5IFj3f4X8DPAdwJLaYFUmlaGM2lx+UVGoWhrO4T3SuBnkoRRUFsKfHdV3V1VH66qL0+y0nbo9NnA/wTeD9yY5HVJ7pNkCfDzwIuq6paquhVY1/rvK3cCr2mjRl+pquur6h+r6qtVdUvb3o/u4bp/FLgf8LKqurM9PrSLvs8HLmAU9j7TRvSevHOnJA8AVgG/12q8Enj7DOt7TVXdXlWfA/4NOH43a98KHDpD+93AdwD/Azigqj5XVf81x7rOqapr2s/4nhmWb27nin29qt4C3AD82G7WO5PTgQ9X1bva5/JcYBuj4LrDX1TVf1bVHcC72P2fk7RfMZxJi0QLYEczGnW4JcktwMcY/R7vGJH4F+CdSbYk+f0kB0y6/qraUFWrgEOAM4BfBp7LaDTjQOBTY9t9D6MRo33l+vHzzJI8KMlftsOotwEXMhoN3BNHA/9ZVd+Yq2NV3VFVr6iq49r23ge8u4WxcUcxGunbOtZ23Qyr/O+x6TuBSUaixi0Dbpqhzo8zOkfwtcC2JH+dsYsHdmGm+mZb/gVG+35vfSewc3D8L0bvbYe9/TlJ+xXDmbRItBO4vwg8paoOGXscVFU3VtVdVfWyqvp+RoeazuDe0a2JT/6uqm9U1fsZnUv0g8D1jEZqvntsmw+uqh3nlu2LE8t3XsfvAA8FHlVVDwJOBbKH674OeFgLt5MXdO+I3YMZHV4ddz2jv59HjbUdvYf1zSjJgYze97/uor6/rKrHAt8NPBB41Y5Fu1jlXPtp5/d4DPeGzy8zGqnb4aG7sd6tjA4l77zuL87xOmlqGc6kxeXPgXVJjgZIckSSn2jTT03yAxldjXcbo0C14/DVDYzO3ZpRkmclOSPJIRl5HPB44LKq+jrwFuBPMvqqiWT0PWM/NrbuIyY8P2lSD2Q0gnJLGxH6nb1Y178AdzG6gOD+Sb6jvb9vk+RVSU5IcmBGXyPyQkaH4D4/3q8dLr4QeFWSg5L8MPvoMG+S+yb5IeCdwP2B/zNDnx9M8sQk92P0c/oq37qvdzuMttc8P8mSJKuBI4EdVwpfCfxsW/Y44CfGXreN0QUBy5jZBcCjk5zeXv88RuHun3azPmlqGM6kxeUPGP2DeUmS24EPASe0ZcsY/UN4O/BJRuHh/LbsDcCZSW7OzFcq3szopPbPMQp2bwFeOfY9WC9mNAKyCbiV0eG+72nLPs7ohO//aoc9ZzpHak/e50MZHdL7IKMT4/dIO7H+FGAlo9GazcAzdtH9AOBtbbtbgMcAp7aAurNfYDQCtJ1RaH47oxC4p85q+/RmRsFsM/Doqrpxhr73Z7RPv8RoFO9+wCvasr9ldGj6piQzjrrtwqXAiYze+28Cz6yq29uytYy+R+4WRhelvGPHi6pqO6MLCD7e9v8Pja+0qrYyOu/sFa3eXwJWVdVtu1GbNFXiV91I0t5L8mcAVXX2QtciaXHzS2glaQ+0EaJ7gKsZHQJ+DvBTC1qUpP2C4UyS9sxDgPWMzs36b0bfuzb43Rwk7f88rClJktQRLwiQJEnqiOFMkiSpI4v6nLPDDz+8VqxYsdBlSJIkzekjH/nIjVU11908Fnc4W7FiBZs2bVroMiRJkuaUZK574AIe1pQkSeqK4UySJKkjhjNJkqSOGM4kSZI6YjiTJEnqiOFMkiSpI4YzSZKkjhjOJEmSOmI4kyRJ6ojhTJIkqSOGM0mSpI4YziRJkjpiOJMkSeqI4UySJKkjhjNJkqSOGM4kSZI6YjiTJEnqiOFMkiSpI4YzSZKkjixZ6AKm3Yq1Gyfqt3ndqoErkSRJPXDkTJIkqSOGM0mSpI4YziRJkjpiOJMkSeqI4UySJKkjhjNJkqSOGM4kSZI6YjiTJEnqiOFMkiSpI4YzSZKkjhjOJEmSOmI4kyRJ6ojhTJIkqSOGM0mSpI4YziRJkjqyZKEL2N+sWLtxon6b160auBItNpN8dvzcSNL+z5EzSZKkjhjOJEmSOmI4kyRJ6ojhTJIkqSOGM0mSpI4YziRJkjpiOJMkSerIYOEsyfcluXLscVuSFyc5NMlFSa5pzw9p/ZPkTUmuTXJVkhOGqk2SJKlXg4WzqvpMVR1fVccDjwLuBN4NrAUurqpjgYvbPMApwLHtsQZ481C1SZIk9Wq+DmueBHyuqv4LOA1Y39rXA6e36dOAt9bIZcAhSY6ap/okSZK6MF/h7NnA29v0kVV1PUB7PqK1LwOuG3vNltb2LZKsSbIpyabt27cPWLIkSdL8GzycJbkv8Azg7+fqOkNbfVtD1TlVtbKqVi5dunRflChJktSN+Rg5OwX4aFXd0OZv2HG4sj1va+1bgKPHXrcc2DoP9UmSJHVjPsLZz3LvIU2ADcDqNr0auGCs/cx21eaJwK07Dn9KkiRNiyVDrjzJdwA/BvziWPM64PwkZwFfAM5o7RcCpwLXMrqy83lD1iZJktSjQcNZVd0JHLZT25cYXb25c98Czh6yHkmSpN4NGs6kabZi7cY5+2xet2oeKpGkvePfs/nl7ZskSZI6YjiTJEnqiOFMkiSpI4YzSZKkjhjOJEmSOmI4kyRJ6ojhTJIkqSOGM0mSpI4YziRJkjpiOJMkSeqI4UySJKkjhjNJkqSOGM4kSZI6YjiTJEnqiOFMkiSpI0sWugANa8XajXP22bxu1TxU0h9/NpKkHjlyJkmS1BHDmSRJUkcMZ5IkSR0xnEmSJHXEcCZJktQRw5kkSVJHDGeSJEkdMZxJkiR1xHAmSZLUEcOZJElSRwxnkiRJHTGcSZIkdcRwJkmS1BHDmSRJUkcMZ5IkSR0xnEmSJHVkyUIXoL6sWLtxzj6b162ah0okSZpOjpxJkiR1xHAmSZLUEcOZJElSRwxnkiRJHTGcSZIkdcRwJkmS1BHDmSRJUkcMZ5IkSR0xnEmSJHXEcCZJktQRw5kkSVJHDGeSJEkdGTScJTkkyTuTfDrJ1Ukem+TQJBcluaY9P6T1TZI3Jbk2yVVJThiyNkmSpB4NPXL2J8D7qur7geOAq4G1wMVVdSxwcZsHOAU4tj3WAG8euDZJkqTuDBbOkjwIeCJwHkBVfa2qbgFOA9a3buuB09v0acBba+Qy4JAkRw1VnyRJUo+GHDl7OLAd+MskH0tybpIHAEdW1fUA7fmI1n8ZcN3Y67e0tm+RZE2STUk2bd++fcDyJUmS5t+Q4WwJcALw5qp6JPBl7j2EOZPM0Fbf1lB1TlWtrKqVS5cu3TeVSpIkdWLIcLYF2FJVl7f5dzIKazfsOFzZnreN9T967PXLga0D1idJktSdwcJZVf03cF2S72tNJwH/AWwAVre21cAFbXoDcGa7avNE4NYdhz8lSZKmxZKB1/9C4G1J7gt8Hngeo0B4fpKzgC8AZ7S+FwKnAtcCd7a+kiRJU2XQcFZVVwIrZ1h00gx9Czh7yHokSZJ65x0CJEmSOmI4kyRJ6ojhTJIkqSOGM0mSpI4YziRJkjpiOJMkSeqI4UySJKkjhjNJkqSOGM4kSZI6YjiTJEnqiOFMkiSpI4YzSZKkjhjOJEmSOmI4kyRJ6ojhTJIkqSOGM0mSpI4YziRJkjpiOJMkSeqI4UySJKkjhjNJkqSOGM4kSZI6YjiTJEnqiOFMkiSpI4YzSZKkjhjOJEmSOmI4kyRJ6ojhTJIkqSOGM0mSpI4YziRJkjpiOJMkSeqI4UySJKkjhjNJkqSOGM4kSZI6YjiTJEnqiOFMkiSpI4YzSZKkjhjOJEmSOmI4kyRJ6ojhTJIkqSOGM0mSpI4YziRJkjpiOJMkSeqI4UySJKkjhjNJkqSOGM4kSZI6YjiTJEnqyKDhLMnmJJ9IcmWSTa3t0CQXJbmmPT+ktSfJm5Jcm+SqJCcMWZskSVKP5mPk7MlVdXxVrWzza4GLq+pY4OI2D3AKcGx7rAHePA+1SZIkdWUhDmueBqxv0+uB08fa31ojlwGHJDlqAeqTJElaMEOHswL+KclHkqxpbUdW1fUA7fmI1r4MuG7stVtamyRJ0tRYMvD6H19VW5McAVyU5NOz9M0MbfVtnUYhbw3AMcccs2+qlCRJ6sSgI2dVtbU9bwPeDTwGuGHH4cr2vK113wIcPfby5cDWGdZ5TlWtrKqVS5cuHbJ8SZKkeTdYOEvygCQP3DEN/DjwSWADsLp1Ww1c0KY3AGe2qzZPBG7dcfhTkiRpWgx5WPNI4N1Jdmznb6vqfUk+DJyf5CzgC8AZrf+FwKnAtcCdwPMGrE2SJKlLg4Wzqvo8cNwM7V8CTpqhvYCzh6pHkiRpMfAOAZIkSR0xnEmSJHXEcCZJktQRw5kkSVJHDGeSJEkdMZxJkiR1ZOjbN0nzZsXajRP127xu1cCVSPNnks+9n3lpcXHkTJIkqSOGM0mSpI4YziRJkjpiOJMkSeqI4UySJKkjhjNJkqSOGM4kSZI6YjiTJEnqiOFMkiSpI4YzSZKkjhjOJEmSOmI4kyRJ6ojhTJIkqSOGM0mSpI7MGs6SHJDk4/NVjCRJ0rRbMtvCqronyX8kWVZVX5yvorRrK9ZunLPP5nWr5qGS3TdJ7XBv/bvbX5Kk/cGs4aw5HLg6yb8DX97RWFXPHKwqSZKkKTVJOFs3eBWSJEkCJghnVXVxkuXAsVV1aZKDgAOGL02SJGn6zHm1ZpKfBzYA57amY4ALhixKkiRpWk3yVRq/CpwI3AZQVZ8FjhyyKEmSpGk1STj7alV9bcdMEg9pSpIkDWSScPb/krwUOCjJk4G/A947bFmSJEnTaZJw9lLgduDTwIuAi4HfGbIoSZKkaTXJ1Zr3JDkX+BeggGuq6huDVyZJkjSF5gxnSU4GzgG+AARYnuQXquqfhi5OkiRp2kzyJbRvBJ7artIkyfcy+iqNRwxZmCRJ0jSa5JyzbTuCGXzzqzS2D1eSJEnS9NrlyFmSZ7TJTybZAJzP6JyzM4Ar5qE2SZKkqTPbYc0zxqZvBZ7Wpm8HjhisIkmSpCm2y3BWVc+dz0IkSZI02dWaxwAvAFaM96+qZw5XliRJ0nSa5GrNDcBbgYsAv99MU2vF2o1z9tm8btU8VCJJ2p9NEs6+VlWvH7wSSZIkTRTO/jTJ7wLvB+7a0VhVVw1WlSRJ0pSaJJx9L/B84BTuPaxZwBOHKkqSJGlaTRLOfhpYUVV3zdlTkiRJe2WSOwRcBTxw6EIkSZI02cjZYcCnk1zOt55z5ldpSJIk7WOThLPX7M0GkhwAbAK+WFVPT/Iw4B3AocBHgedW1deS3I/RV3Y8CvgS8DNVtXlvti1JkrTYzBnOqurivdzGi4CrgQe1+dcBb6iqdyT5c+As4M3t+eaq+p4kz279fmYvty1JkrSozHnOWZLbk9zWHncmuSvJbZOsPMlyYBVwbpsP8BTgna3LeuD0Nn1am6ctP6n1lyRJmhqTjJx982KAJPcBngkcN+H63wi8lHsvKDgMuKWq7m7zW4BlbXoZcF3b5t1Jbm39b5xwW5IkSYveJFdrflNVfaOq3gn82Fx9kzwd2FZVHxlvnmm1EywbX++aJJuSbNq+ffskZUuSJC0ak9z4/Bljs/cBVjJzkNrZ44FnJDkVOIjROWdvBA5JsqSNni0Htrb+W4CjgS1JlgAPBm7aeaVVdQ5wDsDKlSu/LbxJkiQtZpOMnJ0x9jgN+Hp7nlVV/VZVLa+qFcCzgUuq6ueAS4FntW6rgQva9IY2T1t+SVUZviRJ0lSZ5Jyz5+7jbf4m8I4krwY+BpzX2s8D/jrJtYxGzJ69j7crSZLUvV2GsyS/PcvrqqpeO+lGquoDwAfa9OeBx8zQ56uMRuckSZKm1mwjZ/fM0HZ/4HnAUmDicCZJ41as3Thnn83rVs1DJVKfJvkdAX9P9le7DGdV9bod00kOBl4AnMnoO8j+cPjSJEmSps+s55wlOQR4MaMT9d8GPLqqvjQfhUmSJE2j2c45ey3w08BbgOOqaqK7AkiSJGnPzfZVGr8JPBT4dWBzkpva4+Yk3/b9Y5IkSdp7sx3WPHDeqpAkSRIw+wUBM12tKUmSpAHt1r01JUmSNCzDmSRJUkcMZ5IkSR2Z7as0bgZmuvF4GN2+6dDBqpIkSZpSs12tefi8VSFJkiRgN67WTHIocNBY09ahipIkSZpWc55zlmRVks8CW4DL2/MlQxcmSZI0jSa5IOA1wOOBz1TV0cDTgA8MWZQkSdK0miSc3V1V24H7JElVXQScMHBdkiRJU2m2CwJ2uDXJA4B/A96aZBvwjWHLkiRJmk6ThLPTga8CLwbOBB4MPH3IoiQtLivWbpyzz+Z1q+ahEkla/CY5rPlbVXVPVX29qs6rqtcDvzZ0YZIkSdNoknB28gxt/hdYkiRpALPdIeAXgV8CvjfJR8cWPRDYNHRhkiRJ02i2c87OBy4GXgusHWu/vaq2DVqVJEnSlJrtDgE3AzcDZyT5QeAJbdG/AoYzSZKkAUxyh4CzGY2iHdMe5yf5laELkyRJmkaTfJXGLwKPqao7AJL8PvAh4P8OWZgkSdI0muRqzQBfH5v/emuTJEnSPjbb1ZpLqupu4K+By5K8qy36SWD9fBQnSZI0bWY7rHkFcEJV/UGSS4EfYTRi9ktV9eF5qU6SJGnKzBbOvnnosoUxA5kkSdLAZgtnS5Ps8jZN7TZOkiRJ2odmC2cHAAfjyf+SJEnzZrZwdn1VvWreKpEkSdKsX6XhiJkkSdI8my2cnTRvVUiSJAmYJZxV1U3zWYgkSZImu0OAJEmS5onhTJIkqSOGM0mSpI4YziRJkjpiOJMkSeqI4UySJKkjhjNJkqSOGM4kSZI6YjiTJEnqiOFMkiSpI4YzSZKkjgwWzpIclOSKJB9P8qkkr2ztD0tyeZJrkvxdkvu29vu1+Wvb8hVD1SZJktSrIUfO7gKeUlXHAccDJyc5EXgd8IaqOha4GTir9T8LuLmqvgd4Q+snSZI0VQYLZzVyR5s9sD0KeArwzta+Hji9TZ/W5mnLT0qSoeqTJEnq0aDnnCU5IMmVwDbgIuBzwC1VdXfrsgVY1qaXAdcBtOW3AocNWZ8kSVJvBg1nVXVPVR0PLAceAzxipm7teaZRstq5IcmaJJuSbNq+ffu+K1aSJKkD83K1ZlXdAnwAOBE4JMmStmg5sLVNbwGOBmjLHwzcNMO6zqmqlVW1cunSpUOXLkmSNK+GvFpzaZJD2vT9gacCVwOXAs9q3VYDF7TpDW2etvySqvq2kTNJkqT92ZK5u+yxo4D1SQ5gFALPr6r3JvkP4B1JXg18DDiv9T8P+Osk1zIaMXv2gLVJkiR1abBwVlVXAY+cof3zjM4/27n9q8AZQ9UjSZK0GHiHAEmSpI4YziRJkjpiOJMkSeqI4UySJKkjhjNJkqSOGM4kSZI6YjiTJEnqiOFMkiSpI4YzSZKkjhjOJEmSOmI4kyRJ6ojhTJIkqSOD3fhc0nBWrN04Ub/N61YNXInUr0l+T/wdUY8cOZMkSeqI4UySJKkjhjNJkqSOGM4kSZI6YjiTJEnqiOFMkiSpI4YzSZKkjhjOJEmSOmI4kyRJ6ojhTJIkqSOGM0mSpI4YziRJkjpiOJMkSeqI4UySJKkjhjNJkqSOGM4kSZI6YjiTJEnqiOFMkiSpI4YzSZKkjhjOJEmSOmI4kyRJ6ojhTJIkqSOGM0mSpI4YziRJkjpiOJMkSeqI4UySJKkjhjNJkqSOGM4kSZI6YjiTJEnqiOFMkiSpI4YzSZKkjhjOJEmSOrJkoQuQNLwVazdO1G/zulUDVyLtPyb5vfJ3SnvCkTNJkqSODBbOkhyd5NIkVyf5VJIXtfZDk1yU5Jr2/JDWniRvSnJtkquSnDBUbZIkSb0acuTsbuAlVfUI4ETg7CQ/AKwFLq6qY4GL2zzAKcCx7bEGePOAtUmSJHVpsHBWVddX1Ufb9O3A1cAy4DRgfeu2Hji9TZ8GvLVGLgMOSXLUUPVJkiT1aF7OOUuyAngkcDlwZFVdD6MABxzRui0Drht72ZbWtvO61iTZlGTT9u3bhyxbkiRp3g0ezpIcDLwLeHFV3TZb1xna6tsaqs6pqpVVtXLp0qX7qkxJkqQuDBrOkhzIKJi9rar+oTXfsONwZXve1tq3AEePvXw5sHXI+iRJknoz5NWaAc4Drq6q148t2gCsbtOrgQvG2s9sV22eCNy64/CnJEnStBjyS2gfDzwX+ESSK1vbbwPrgPOTnAV8ATijLbsQOBW4FrgTeN6AtUmSJHVpsHBWVf/GzOeRAZw0Q/8Czh6qHkmSpMXAOwRIkiR1xHAmSZLUEcOZJElSRwxnkiRJHTGcSZIkdWTIr9KQJHVmxdqNc/bZvG7VPFQiaVccOZMkSeqI4UySJKkjhjNJkqSOGM4kSZI6YjiTJEnqiOFMkiSpI4YzSZKkjhjOJEmSOmI4kyRJ6ojhTJIkqSOGM0mSpI4YziRJkjpiOJMkSeqI4UySJKkjhjNJkqSOGM4kSZI6smShC9DitmLtxjn7bF63ah4q0b40yX4F9+0kpulnOfR79e+NpoUjZ5IkSR0xnEmSJHXEcCZJktQRw5kkSVJHDGeSJEkdMZxJkiR1xHAmSZLUEcOZJElSRwxnkiRJHTGcSZIkdcRwJkmS1BHDmSRJUkcMZ5IkSR0xnEmSJHXEcCZJktQRw5kkSVJHlix0AZK0mKxYu3GifpvXrRq4Ei0mQ39u/FzuXxw5kyRJ6ojhTJIkqSOGM0mSpI4YziRJkjpiOJMkSeqI4UySJKkjg4WzJG9Jsi3JJ8faDk1yUZJr2vNDWnuSvCnJtUmuSnLCUHVJkiT1bMiRs78CTt6pbS1wcVUdC1zc5gFOAY5tjzXAmwesS5IkqVuDhbOq+iBw007NpwHr2/R64PSx9rfWyGXAIUmOGqo2SZKkXs33OWdHVtX1AO35iNa+DLhurN+W1iZJkjRVerkgIDO01YwdkzVJNiXZtH379oHLkiRJml/zHc5u2HG4sj1va+1bgKPH+i0Hts60gqo6p6pWVtXKpUuXDlqsJEnSfJvvcLYBWN2mVwMXjLWf2a7aPBG4dcfhT0mSpGmyZKgVJ3k78CTg8CRbgJcD64Dzk5wFfAE4o3W/EDgVuBa4E3jeUHVJkiT1bLBwVlU/u4tFJ83Qt4Czh6pFkiRpsRgsnEnSQlixduNE/TavW7VH/Yc2ST3zVcvQevvZa9/Z3c/xkJ/7xfg56+VqTUmSJGE4kyRJ6orhTJIkqSOGM0mSpI4YziRJkjpiOJMkSeqI4UySJKkjhjNJkqSOGM4kSZI6YjiTJEnqiOFMkiSpI4YzSZKkjhjOJEmSOmI4kyRJ6ojhTJIkqSOGM0mSpI4sWegCerdi7caJ+m1et2rgSqTpNcnvob+D+960/f2bps/ZYn6v0/C5dORMkiSpI4YzSZKkjhjOJEmSOmI4kyRJ6ojhTJIkqSOGM0mSpI4YziRJkjpiOJMkSeqI4UySJKkjhjNJkqSOGM4kSZI6YjiTJEnqiOFMkiSpI4YzSZKkjhjOJEmSOmI4kyRJ6ojhTJIkqSNA56FPAAAFaUlEQVSGM0mSpI4YziRJkjpiOJMkSeqI4UySJKkjhjNJkqSOGM4kSZI6YjiTJEnqiOFMkiSpI4YzSZKkjhjOJEmSOmI4kyRJ6khX4SzJyUk+k+TaJGsXuh5JkqT51k04S3IA8GfAKcAPAD+b5AcWtipJkqT51U04Ax4DXFtVn6+qrwHvAE5b4JokSZLmVU/hbBlw3dj8ltYmSZI0NVJVC10DAEnOAJ5WVc9v888FHlNVL9yp3xpgTZv9PuAz81royOHAjQuwXQ3Pfbt/cr/uv9y3+6f9db9+V1UtnavTkvmoZEJbgKPH5pcDW3fuVFXnAOfMV1EzSbKpqlYuZA0ahvt2/+R+3X+5b/dP075fezqs+WHg2CQPS3Jf4NnAhgWuSZIkaV51M3JWVXcneQHwfuAA4C1V9akFLkuSJGledRPOAKrqQuDCha5jAgt6WFWDct/un9yv+y/37f5pqvdrNxcESJIkqa9zziRJkqae4Ww3eYup/UeStyTZluSTY22HJrkoyTXt+SELWaN2X5Kjk1ya5Ookn0ryotbuvl3EkhyU5IokH2/79ZWt/WFJLm/79e/aBWVaZJIckORjSd7b5qd6vxrOdoO3mNrv/BVw8k5ta4GLq+pY4OI2r8XlbuAlVfUI4ETg7PZ76r5d3O4CnlJVxwHHAycnORF4HfCGtl9vBs5awBq1514EXD02P9X71XC2e7zF1H6kqj4I3LRT82nA+ja9Hjh9XovSXquq66vqo236dkZ/8Jfhvl3UauSONntgexTwFOCdrd39ugglWQ6sAs5t82HK96vhbPd4i6n935FVdT2M/pEHjljgerQXkqwAHglcjvt20WuHvq4EtgEXAZ8Dbqmqu1sX/yYvTm8EXgp8o80fxpTvV8PZ7skMbV7uKnUoycHAu4AXV9VtC12P9l5V3VNVxzO6g8xjgEfM1G1+q9LeSPJ0YFtVfWS8eYauU7Vfu/qes0VgoltMaVG7IclRVXV9kqMY/Q9di0ySAxkFs7dV1T+0ZvftfqKqbknyAUbnFB6SZEkbZfFv8uLzeOAZSU4FDgIexGgkbar3qyNnu8dbTO3/NgCr2/Rq4IIFrEV7oJ2vch5wdVW9fmyR+3YRS7I0ySFt+v7AUxmdT3gp8KzWzf26yFTVb1XV8qpawejf1Euq6ueY8v3ql9Duppbu38i9t5h6zQKXpD2U5O3Ak4DDgRuAlwPvAc4HjgG+AJxRVTtfNKCOJXkC8K/AJ7j3HJbfZnTemft2kUryw4xODD+A0cDC+VX1qiQPZ3Rx1qHAx4DnVNVdC1ep9lSSJwG/XlVPn/b9ajiTJEnqiIc1JUmSOmI4kyRJ6ojhTJIkqSOGM0mSpI4YziRJkjpiOJO030tyx9y9vtn3FUl+faj1S9JcDGeSJEkdMZxJmkpJfiLJ5Uk+luSfkxw5tvi4JJckuSbJL4y95jeSfDjJVUleuQBlS5oChjNJ0+rfgBOr6pGMvon8pWPLfhhYBTwWeFmS70zy48CxjG64fTzwqCRPnOeaJU0Bb3wuaVotB/6u3QT9vsB/ji27oKq+AnwlyaWMAtkTgB9ndCsZgIMZhbUPzl/JkqaB4UzStPpT4PVVtaHd0+8VY8t2vq9dAQFeW1V/MT/lSZpWHtaUNK0eDHyxTa/eadlpSQ5KchjwJODDwPuBn09yMECSZUmOmK9iJU0PR84kTYPvSLJlbP71jEbK/j7JF4HLgIeNLb8C2AgcA/zvqtoKbE3yCODfkwDcATwH2DZ8+ZKmSap2Hr2XJEnSQvGwpiRJUkcMZ5IkSR0xnEmSJHXEcCZJktQRw5kkSVJHDGeSJEkdMZxJkiR1xHAmSZLUkf8PFn6Q8kokdyAAAAAASUVORK5CYII=\n",
      "text/plain": [
       "<Figure size 720x576 with 1 Axes>"
      ]
     },
     "metadata": {
      "needs_background": "light"
     },
     "output_type": "display_data"
    }
   ],
   "source": [
    "sign_count_test = Counter(Y_test)  # return dictionary\n",
    "n_class_test = len(np.unique(Y_test))\n",
    "print('Number of the test class: ', n_class_test)\n",
    "\n",
    "# data visulization for the validation data set distribution\n",
    "x_val_test = np.array(range(n_class_test))\n",
    "y_val_test = [sign_count_test[i] for i in range(n_class_test)]\n",
    "plt.figure(figsize=(10,8))\n",
    "plt.bar(x_val_test,y_val_test)\n",
    "plt.xlabel('Label')\n",
    "plt.ylabel('Total Number')\n",
    "plt.title('Test Set Traffic Sign Distribution')"
   ]
  },
  {
   "cell_type": "markdown",
   "metadata": {},
   "source": [
    "# Step 2. Deep Learning Architecture Design"
   ]
  },
  {
   "cell_type": "code",
   "execution_count": null,
   "metadata": {},
   "outputs": [],
   "source": []
  }
 ],
 "metadata": {
  "kernelspec": {
   "display_name": "Python 3",
   "language": "python",
   "name": "python3"
  },
  "language_info": {
   "codemirror_mode": {
    "name": "ipython",
    "version": 3
   },
   "file_extension": ".py",
   "mimetype": "text/x-python",
   "name": "python",
   "nbconvert_exporter": "python",
   "pygments_lexer": "ipython3",
   "version": "3.7.0"
  }
 },
 "nbformat": 4,
 "nbformat_minor": 2
}

#
